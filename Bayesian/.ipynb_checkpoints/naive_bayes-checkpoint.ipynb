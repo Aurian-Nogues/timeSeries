{
 "cells": [
  {
   "cell_type": "code",
   "execution_count": 1,
   "metadata": {},
   "outputs": [],
   "source": [
    "import pandas as pd"
   ]
  },
  {
   "cell_type": "code",
   "execution_count": 4,
   "metadata": {},
   "outputs": [],
   "source": [
    "df = pd.read_csv('Data.csv', sep = ',')"
   ]
  },
  {
   "cell_type": "code",
   "execution_count": 6,
   "metadata": {},
   "outputs": [
    {
     "data": {
      "text/html": [
       "<div>\n",
       "<style scoped>\n",
       "    .dataframe tbody tr th:only-of-type {\n",
       "        vertical-align: middle;\n",
       "    }\n",
       "\n",
       "    .dataframe tbody tr th {\n",
       "        vertical-align: top;\n",
       "    }\n",
       "\n",
       "    .dataframe thead th {\n",
       "        text-align: right;\n",
       "    }\n",
       "</style>\n",
       "<table border=\"1\" class=\"dataframe\">\n",
       "  <thead>\n",
       "    <tr style=\"text-align: right;\">\n",
       "      <th></th>\n",
       "      <th>Weather</th>\n",
       "      <th>Car</th>\n",
       "      <th>Class</th>\n",
       "    </tr>\n",
       "  </thead>\n",
       "  <tbody>\n",
       "    <tr>\n",
       "      <th>0</th>\n",
       "      <td>Sunny</td>\n",
       "      <td>Working</td>\n",
       "      <td>Go-out</td>\n",
       "    </tr>\n",
       "    <tr>\n",
       "      <th>1</th>\n",
       "      <td>Rainy</td>\n",
       "      <td>broken</td>\n",
       "      <td>Go-out</td>\n",
       "    </tr>\n",
       "    <tr>\n",
       "      <th>2</th>\n",
       "      <td>Sunny</td>\n",
       "      <td>Working</td>\n",
       "      <td>Go-out</td>\n",
       "    </tr>\n",
       "    <tr>\n",
       "      <th>3</th>\n",
       "      <td>Sunny</td>\n",
       "      <td>Working</td>\n",
       "      <td>Go-out</td>\n",
       "    </tr>\n",
       "    <tr>\n",
       "      <th>4</th>\n",
       "      <td>Sunny</td>\n",
       "      <td>Working</td>\n",
       "      <td>Go-out</td>\n",
       "    </tr>\n",
       "    <tr>\n",
       "      <th>5</th>\n",
       "      <td>Rainy</td>\n",
       "      <td>broken</td>\n",
       "      <td>Stay-home</td>\n",
       "    </tr>\n",
       "    <tr>\n",
       "      <th>6</th>\n",
       "      <td>Rainy</td>\n",
       "      <td>broken</td>\n",
       "      <td>Stay-home</td>\n",
       "    </tr>\n",
       "    <tr>\n",
       "      <th>7</th>\n",
       "      <td>Sunny</td>\n",
       "      <td>Working</td>\n",
       "      <td>Stay-home</td>\n",
       "    </tr>\n",
       "    <tr>\n",
       "      <th>8</th>\n",
       "      <td>Sunny</td>\n",
       "      <td>broken</td>\n",
       "      <td>Stay-home</td>\n",
       "    </tr>\n",
       "    <tr>\n",
       "      <th>9</th>\n",
       "      <td>Rainy</td>\n",
       "      <td>broken</td>\n",
       "      <td>Stay-home</td>\n",
       "    </tr>\n",
       "  </tbody>\n",
       "</table>\n",
       "</div>"
      ],
      "text/plain": [
       "  Weather      Car      Class\n",
       "0   Sunny  Working     Go-out\n",
       "1   Rainy   broken     Go-out\n",
       "2   Sunny  Working     Go-out\n",
       "3   Sunny  Working     Go-out\n",
       "4   Sunny  Working     Go-out\n",
       "5   Rainy   broken  Stay-home\n",
       "6   Rainy   broken  Stay-home\n",
       "7   Sunny  Working  Stay-home\n",
       "8   Sunny   broken  Stay-home\n",
       "9   Rainy   broken  Stay-home"
      ]
     },
     "execution_count": 6,
     "metadata": {},
     "output_type": "execute_result"
    }
   ],
   "source": [
    "df # Class is wether we go out, variables are weather and car state"
   ]
  },
  {
   "cell_type": "markdown",
   "metadata": {},
   "source": [
    "### Replace data with numbers"
   ]
  },
  {
   "cell_type": "code",
   "execution_count": 7,
   "metadata": {},
   "outputs": [],
   "source": [
    "replacements = {'Sunny': 1, 'Rainy': 0,\n",
    "                'Working': 1, 'broken':0,\n",
    "               'Go-out': 1, 'Stay-home':0}"
   ]
  },
  {
   "cell_type": "code",
   "execution_count": 12,
   "metadata": {},
   "outputs": [
    {
     "data": {
      "text/html": [
       "<div>\n",
       "<style scoped>\n",
       "    .dataframe tbody tr th:only-of-type {\n",
       "        vertical-align: middle;\n",
       "    }\n",
       "\n",
       "    .dataframe tbody tr th {\n",
       "        vertical-align: top;\n",
       "    }\n",
       "\n",
       "    .dataframe thead th {\n",
       "        text-align: right;\n",
       "    }\n",
       "</style>\n",
       "<table border=\"1\" class=\"dataframe\">\n",
       "  <thead>\n",
       "    <tr style=\"text-align: right;\">\n",
       "      <th></th>\n",
       "      <th>Weather</th>\n",
       "      <th>Car</th>\n",
       "      <th>Class</th>\n",
       "    </tr>\n",
       "  </thead>\n",
       "  <tbody>\n",
       "    <tr>\n",
       "      <th>0</th>\n",
       "      <td>1</td>\n",
       "      <td>1</td>\n",
       "      <td>1</td>\n",
       "    </tr>\n",
       "    <tr>\n",
       "      <th>1</th>\n",
       "      <td>0</td>\n",
       "      <td>0</td>\n",
       "      <td>1</td>\n",
       "    </tr>\n",
       "    <tr>\n",
       "      <th>2</th>\n",
       "      <td>1</td>\n",
       "      <td>1</td>\n",
       "      <td>1</td>\n",
       "    </tr>\n",
       "    <tr>\n",
       "      <th>3</th>\n",
       "      <td>1</td>\n",
       "      <td>1</td>\n",
       "      <td>1</td>\n",
       "    </tr>\n",
       "    <tr>\n",
       "      <th>4</th>\n",
       "      <td>1</td>\n",
       "      <td>1</td>\n",
       "      <td>1</td>\n",
       "    </tr>\n",
       "    <tr>\n",
       "      <th>5</th>\n",
       "      <td>0</td>\n",
       "      <td>0</td>\n",
       "      <td>0</td>\n",
       "    </tr>\n",
       "    <tr>\n",
       "      <th>6</th>\n",
       "      <td>0</td>\n",
       "      <td>0</td>\n",
       "      <td>0</td>\n",
       "    </tr>\n",
       "    <tr>\n",
       "      <th>7</th>\n",
       "      <td>1</td>\n",
       "      <td>1</td>\n",
       "      <td>0</td>\n",
       "    </tr>\n",
       "    <tr>\n",
       "      <th>8</th>\n",
       "      <td>1</td>\n",
       "      <td>0</td>\n",
       "      <td>0</td>\n",
       "    </tr>\n",
       "    <tr>\n",
       "      <th>9</th>\n",
       "      <td>0</td>\n",
       "      <td>0</td>\n",
       "      <td>0</td>\n",
       "    </tr>\n",
       "  </tbody>\n",
       "</table>\n",
       "</div>"
      ],
      "text/plain": [
       "   Weather  Car  Class\n",
       "0        1    1      1\n",
       "1        0    0      1\n",
       "2        1    1      1\n",
       "3        1    1      1\n",
       "4        1    1      1\n",
       "5        0    0      0\n",
       "6        0    0      0\n",
       "7        1    1      0\n",
       "8        1    0      0\n",
       "9        0    0      0"
      ]
     },
     "execution_count": 12,
     "metadata": {},
     "output_type": "execute_result"
    }
   ],
   "source": [
    "df_codes = df.copy()\n",
    "for column in df_codes.columns:\n",
    "    entries = list(df_codes[column])\n",
    "    df_codes[column] = [replacements[item] for item in entries]\n",
    "df_codes"
   ]
  },
  {
   "cell_type": "markdown",
   "metadata": {},
   "source": [
    "# Calculate probabilities\n",
    "P(class | X1, X2, …, Xn) = P(X1|class) * P(X2|class) * … * P(Xn|class) * P(class)"
   ]
  },
  {
   "cell_type": "code",
   "execution_count": 108,
   "metadata": {},
   "outputs": [],
   "source": [
    "def calculate_probabilities(df):\n",
    "    '''\n",
    "    df is a dataframe of features and labels. \n",
    "    The last column should be names Class and contain the labels\n",
    "    Other columns should be features\n",
    "    \n",
    "    return: a list of dictionaries containing P(class) and P(Xn|class) for each class\n",
    "    '''\n",
    "    \n",
    "    final_dictionaries = []\n",
    "    all_classes = df.loc[:,'Class'].unique()\n",
    "    all_features = df.columns[df.columns != 'Class']\n",
    "    \n",
    "    for item in all_classes:\n",
    "        #create dictionary for that class\n",
    "        tempDict = {'class': item}\n",
    "        \n",
    "        #calculate P(class)\n",
    "        occurences = (df['Class'] == item).sum()\n",
    "        P_class = occurences / df['Class'].shape[0]\n",
    "        \n",
    "        #append P(class) to dict\n",
    "        tempDict.update({'P_class': P_class})\n",
    "        \n",
    "        #create a temporary df which only has class entries\n",
    "        \n",
    "        #loop over each feature to calculate P(X|class)\n",
    "        tempDf = df.loc[df['Class'] == item, :]\n",
    "        for feature in all_features:\n",
    "            occurences = (tempDf[feature] == 1).sum()\n",
    "            P_X_knowing_class = occurences / tempDf[feature].shape[0]\n",
    "            tempDict.update({feature + '=1': P_X_knowing_class})\n",
    "            \n",
    "        #append dictionary to list\n",
    "        final_dictionaries.append(tempDict)\n",
    "        \n",
    "    return final_dictionaries\n",
    "    "
   ]
  },
  {
   "cell_type": "code",
   "execution_count": 111,
   "metadata": {},
   "outputs": [
    {
     "data": {
      "text/plain": [
       "[{'class': 1, 'P_class': 0.5, 'Weather=1': 0.8, 'Car=1': 0.8},\n",
       " {'class': 0, 'P_class': 0.5, 'Weather=1': 0.4, 'Car=1': 0.2}]"
      ]
     },
     "execution_count": 111,
     "metadata": {},
     "output_type": "execute_result"
    }
   ],
   "source": [
    "t = calculate_probabilities(df_codes)\n",
    "t"
   ]
  }
 ],
 "metadata": {
  "kernelspec": {
   "display_name": "Python 3",
   "language": "python",
   "name": "python3"
  },
  "language_info": {
   "codemirror_mode": {
    "name": "ipython",
    "version": 3
   },
   "file_extension": ".py",
   "mimetype": "text/x-python",
   "name": "python",
   "nbconvert_exporter": "python",
   "pygments_lexer": "ipython3",
   "version": "3.8.5"
  }
 },
 "nbformat": 4,
 "nbformat_minor": 4
}
