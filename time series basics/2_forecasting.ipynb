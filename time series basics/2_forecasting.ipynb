{
 "cells": [
  {
   "cell_type": "code",
   "execution_count": 14,
   "metadata": {},
   "outputs": [],
   "source": [
    "import os\n",
    "import pandas as pd\n",
    "import sklearn.metrics as metrics\n",
    "from sklearn.metrics import *\n",
    "from sklearn.model_selection import TimeSeriesSplit, cross_val_score, GridSearchCV\n",
    "from sklearn.linear_model import LinearRegression\n",
    "from sklearn.neural_network import MLPRegressor\n",
    "from sklearn.neighbors import KNeighborsRegressor\n",
    "from sklearn.ensemble import RandomForestRegressor\n",
    "from sklearn.svm import SVR\n",
    "import matplotlib.pyplot as plt\n",
    "import numpy as np"
   ]
  },
  {
   "cell_type": "code",
   "execution_count": 2,
   "metadata": {},
   "outputs": [],
   "source": [
    "dataPath = os.path.abspath(os.path.join('Data', 'power_data.csv'))\n",
    "data = pd.read_csv(dataPath, sep = ',')"
   ]
  },
  {
   "cell_type": "code",
   "execution_count": 3,
   "metadata": {},
   "outputs": [
    {
     "data": {
      "text/html": [
       "<div>\n",
       "<style scoped>\n",
       "    .dataframe tbody tr th:only-of-type {\n",
       "        vertical-align: middle;\n",
       "    }\n",
       "\n",
       "    .dataframe tbody tr th {\n",
       "        vertical-align: top;\n",
       "    }\n",
       "\n",
       "    .dataframe thead th {\n",
       "        text-align: right;\n",
       "    }\n",
       "</style>\n",
       "<table border=\"1\" class=\"dataframe\">\n",
       "  <thead>\n",
       "    <tr style=\"text-align: right;\">\n",
       "      <th></th>\n",
       "      <th>Unnamed: 0</th>\n",
       "      <th>Consumption</th>\n",
       "      <th>Wind</th>\n",
       "      <th>Solar</th>\n",
       "      <th>Wind+Solar</th>\n",
       "    </tr>\n",
       "    <tr>\n",
       "      <th>Date</th>\n",
       "      <th></th>\n",
       "      <th></th>\n",
       "      <th></th>\n",
       "      <th></th>\n",
       "      <th></th>\n",
       "    </tr>\n",
       "  </thead>\n",
       "  <tbody>\n",
       "    <tr>\n",
       "      <th>2006-01-01</th>\n",
       "      <td>0</td>\n",
       "      <td>1069.184</td>\n",
       "      <td>NaN</td>\n",
       "      <td>NaN</td>\n",
       "      <td>NaN</td>\n",
       "    </tr>\n",
       "    <tr>\n",
       "      <th>2006-01-02</th>\n",
       "      <td>1</td>\n",
       "      <td>1380.521</td>\n",
       "      <td>NaN</td>\n",
       "      <td>NaN</td>\n",
       "      <td>NaN</td>\n",
       "    </tr>\n",
       "    <tr>\n",
       "      <th>2006-01-03</th>\n",
       "      <td>2</td>\n",
       "      <td>1442.533</td>\n",
       "      <td>NaN</td>\n",
       "      <td>NaN</td>\n",
       "      <td>NaN</td>\n",
       "    </tr>\n",
       "    <tr>\n",
       "      <th>2006-01-04</th>\n",
       "      <td>3</td>\n",
       "      <td>1457.217</td>\n",
       "      <td>NaN</td>\n",
       "      <td>NaN</td>\n",
       "      <td>NaN</td>\n",
       "    </tr>\n",
       "    <tr>\n",
       "      <th>2006-01-05</th>\n",
       "      <td>4</td>\n",
       "      <td>1477.131</td>\n",
       "      <td>NaN</td>\n",
       "      <td>NaN</td>\n",
       "      <td>NaN</td>\n",
       "    </tr>\n",
       "  </tbody>\n",
       "</table>\n",
       "</div>"
      ],
      "text/plain": [
       "            Unnamed: 0  Consumption  Wind  Solar  Wind+Solar\n",
       "Date                                                        \n",
       "2006-01-01           0     1069.184   NaN    NaN         NaN\n",
       "2006-01-02           1     1380.521   NaN    NaN         NaN\n",
       "2006-01-03           2     1442.533   NaN    NaN         NaN\n",
       "2006-01-04           3     1457.217   NaN    NaN         NaN\n",
       "2006-01-05           4     1477.131   NaN    NaN         NaN"
      ]
     },
     "execution_count": 3,
     "metadata": {},
     "output_type": "execute_result"
    }
   ],
   "source": [
    "#convert dates to timestamps\n",
    "data['Date'] = pd.to_datetime(data['Date'])\n",
    "#set date as index\n",
    "data = data.set_index('Date')\n",
    "data.head()"
   ]
  },
  {
   "cell_type": "markdown",
   "metadata": {},
   "source": [
    "# model objectives"
   ]
  },
  {
   "cell_type": "markdown",
   "metadata": {},
   "source": [
    "### Goals of Prediction\n",
    "Our aim is to predict Consumption (ideally for future unseen dates) from this time series dataset.\n",
    "### Training and Test set\n",
    "We will be using 10 years of data for training i.e. 2006–2016 and last year’s data for testing i.e. 2017.\n",
    "### Performance Measure\n",
    "In order to evaluate how good our model is, we would be using R-squared and Root Mean Squared Error"
   ]
  },
  {
   "cell_type": "markdown",
   "metadata": {},
   "source": [
    "# Helper functions"
   ]
  },
  {
   "cell_type": "code",
   "execution_count": 4,
   "metadata": {},
   "outputs": [],
   "source": [
    "#regression metrics\n",
    "def regression_results(y_true, y_pred):\n",
    "    explained_variance=metrics.explained_variance_score(y_true, y_pred)\n",
    "    mean_absolute_error = metrics.mean_absolute_error(y_true, y_pred)\n",
    "    mse  = metrics.mean_squared_error(y_true, y_pred)\n",
    "    mean_square_log_error = metrics.mean_squared_log_error(y_true, y_pred)\n",
    "    median_absolute_error=metrics.median_absolute_error(y_true, y_pred)\n",
    "    r2=metrics.r2_score(y_true, y_pred)\n",
    "    \n",
    "    print('explained_variance: ', round(explained_variance,4))    \n",
    "    print('mean_squared_log_error: ', round(mean_squared_log_error,4))\n",
    "    print('r2: ', round(r2,4))\n",
    "    print('MAE: ', round(mean_absolute_error,4))\n",
    "    print('MSE: ', round(mse,4))\n",
    "    print('RMSE: ', round(np.sqrt(mse),4))"
   ]
  },
  {
   "cell_type": "markdown",
   "metadata": {},
   "source": [
    "# Feature engineering\n",
    "As a baseline, we choose a simplistic model, one that predicts today’s consumption value based on\n",
    "yesterday’s consumption value and;<br>\n",
    "difference between yesterday and the day before yesterday’s consumption value."
   ]
  },
  {
   "cell_type": "code",
   "execution_count": 5,
   "metadata": {},
   "outputs": [
    {
     "name": "stderr",
     "output_type": "stream",
     "text": [
      "C:\\Users\\auria\\Anaconda3\\envs\\timeSeries\\lib\\site-packages\\pandas\\core\\indexing.py:1596: SettingWithCopyWarning: \n",
      "A value is trying to be set on a copy of a slice from a DataFrame.\n",
      "Try using .loc[row_indexer,col_indexer] = value instead\n",
      "\n",
      "See the caveats in the documentation: https://pandas.pydata.org/pandas-docs/stable/user_guide/indexing.html#returning-a-view-versus-a-copy\n",
      "  self.obj[key] = _infer_fill_value(value)\n",
      "C:\\Users\\auria\\Anaconda3\\envs\\timeSeries\\lib\\site-packages\\pandas\\core\\indexing.py:1783: SettingWithCopyWarning: \n",
      "A value is trying to be set on a copy of a slice from a DataFrame.\n",
      "Try using .loc[row_indexer,col_indexer] = value instead\n",
      "\n",
      "See the caveats in the documentation: https://pandas.pydata.org/pandas-docs/stable/user_guide/indexing.html#returning-a-view-versus-a-copy\n",
      "  self.obj[item_labels[indexer[info_axis]]] = value\n"
     ]
    },
    {
     "data": {
      "text/html": [
       "<div>\n",
       "<style scoped>\n",
       "    .dataframe tbody tr th:only-of-type {\n",
       "        vertical-align: middle;\n",
       "    }\n",
       "\n",
       "    .dataframe tbody tr th {\n",
       "        vertical-align: top;\n",
       "    }\n",
       "\n",
       "    .dataframe thead th {\n",
       "        text-align: right;\n",
       "    }\n",
       "</style>\n",
       "<table border=\"1\" class=\"dataframe\">\n",
       "  <thead>\n",
       "    <tr style=\"text-align: right;\">\n",
       "      <th></th>\n",
       "      <th>Consumption</th>\n",
       "      <th>Yesterday</th>\n",
       "      <th>Yesterday_Diff</th>\n",
       "    </tr>\n",
       "    <tr>\n",
       "      <th>Date</th>\n",
       "      <th></th>\n",
       "      <th></th>\n",
       "      <th></th>\n",
       "    </tr>\n",
       "  </thead>\n",
       "  <tbody>\n",
       "    <tr>\n",
       "      <th>2006-01-03</th>\n",
       "      <td>1442.533</td>\n",
       "      <td>1380.521</td>\n",
       "      <td>311.337</td>\n",
       "    </tr>\n",
       "    <tr>\n",
       "      <th>2006-01-04</th>\n",
       "      <td>1457.217</td>\n",
       "      <td>1442.533</td>\n",
       "      <td>62.012</td>\n",
       "    </tr>\n",
       "    <tr>\n",
       "      <th>2006-01-05</th>\n",
       "      <td>1477.131</td>\n",
       "      <td>1457.217</td>\n",
       "      <td>14.684</td>\n",
       "    </tr>\n",
       "    <tr>\n",
       "      <th>2006-01-06</th>\n",
       "      <td>1403.427</td>\n",
       "      <td>1477.131</td>\n",
       "      <td>19.914</td>\n",
       "    </tr>\n",
       "    <tr>\n",
       "      <th>2006-01-07</th>\n",
       "      <td>1300.287</td>\n",
       "      <td>1403.427</td>\n",
       "      <td>-73.704</td>\n",
       "    </tr>\n",
       "  </tbody>\n",
       "</table>\n",
       "</div>"
      ],
      "text/plain": [
       "            Consumption  Yesterday  Yesterday_Diff\n",
       "Date                                              \n",
       "2006-01-03     1442.533   1380.521         311.337\n",
       "2006-01-04     1457.217   1442.533          62.012\n",
       "2006-01-05     1477.131   1457.217          14.684\n",
       "2006-01-06     1403.427   1477.131          19.914\n",
       "2006-01-07     1300.287   1403.427         -73.704"
      ]
     },
     "execution_count": 5,
     "metadata": {},
     "output_type": "execute_result"
    }
   ],
   "source": [
    "# creating new dataframe from consumption column\n",
    "data_consumption = data[['Consumption']]\n",
    "# inserting new column with yesterday's consumption values\n",
    "data_consumption.loc[:,'Yesterday'] = data_consumption.loc[:,'Consumption'].shift()\n",
    "# inserting another column with difference between yesterday and day before yesterday's consumption values.\n",
    "data_consumption.loc[:,'Yesterday_Diff'] = data_consumption.loc[:,'Yesterday'].diff()\n",
    "# dropping NAs\n",
    "data_consumption = data_consumption.dropna()\n",
    "#print\n",
    "data_consumption.head()"
   ]
  },
  {
   "cell_type": "markdown",
   "metadata": {},
   "source": [
    "# Defining training and test sets"
   ]
  },
  {
   "cell_type": "code",
   "execution_count": 6,
   "metadata": {},
   "outputs": [],
   "source": [
    "X_train  = data_consumption[:'2016'].drop(['Consumption'], axis = 1)\n",
    "y_train = data_consumption.loc[:'2016', 'Consumption']\n",
    "\n",
    "X_test  = data_consumption['2017'].drop(['Consumption'], axis = 1)\n",
    "y_test = data_consumption.loc['2017', 'Consumption']"
   ]
  },
  {
   "cell_type": "code",
   "execution_count": 7,
   "metadata": {},
   "outputs": [
    {
     "data": {
      "text/html": [
       "<div>\n",
       "<style scoped>\n",
       "    .dataframe tbody tr th:only-of-type {\n",
       "        vertical-align: middle;\n",
       "    }\n",
       "\n",
       "    .dataframe tbody tr th {\n",
       "        vertical-align: top;\n",
       "    }\n",
       "\n",
       "    .dataframe thead th {\n",
       "        text-align: right;\n",
       "    }\n",
       "</style>\n",
       "<table border=\"1\" class=\"dataframe\">\n",
       "  <thead>\n",
       "    <tr style=\"text-align: right;\">\n",
       "      <th></th>\n",
       "      <th>Yesterday</th>\n",
       "      <th>Yesterday_Diff</th>\n",
       "    </tr>\n",
       "    <tr>\n",
       "      <th>Date</th>\n",
       "      <th></th>\n",
       "      <th></th>\n",
       "    </tr>\n",
       "  </thead>\n",
       "  <tbody>\n",
       "    <tr>\n",
       "      <th>2006-01-03</th>\n",
       "      <td>1380.521</td>\n",
       "      <td>311.337</td>\n",
       "    </tr>\n",
       "    <tr>\n",
       "      <th>2006-01-04</th>\n",
       "      <td>1442.533</td>\n",
       "      <td>62.012</td>\n",
       "    </tr>\n",
       "    <tr>\n",
       "      <th>2006-01-05</th>\n",
       "      <td>1457.217</td>\n",
       "      <td>14.684</td>\n",
       "    </tr>\n",
       "    <tr>\n",
       "      <th>2006-01-06</th>\n",
       "      <td>1477.131</td>\n",
       "      <td>19.914</td>\n",
       "    </tr>\n",
       "    <tr>\n",
       "      <th>2006-01-07</th>\n",
       "      <td>1403.427</td>\n",
       "      <td>-73.704</td>\n",
       "    </tr>\n",
       "  </tbody>\n",
       "</table>\n",
       "</div>"
      ],
      "text/plain": [
       "            Yesterday  Yesterday_Diff\n",
       "Date                                 \n",
       "2006-01-03   1380.521         311.337\n",
       "2006-01-04   1442.533          62.012\n",
       "2006-01-05   1457.217          14.684\n",
       "2006-01-06   1477.131          19.914\n",
       "2006-01-07   1403.427         -73.704"
      ]
     },
     "execution_count": 7,
     "metadata": {},
     "output_type": "execute_result"
    }
   ],
   "source": [
    "X_train.head()"
   ]
  },
  {
   "cell_type": "markdown",
   "metadata": {},
   "source": [
    "# forward chaining strategy for time series cross validation\n",
    "In forward chaining, say with 3 folds, the train and validation sets look like: <br>\n",
    "fold 1: training, validation <br>\n",
    "fold 2: training, validation <br>\n",
    "fold 3: training, validation<br>\n",
    "where 1, 2, 3, 4 represent the year. This way successive training sets are supersets of those that come before them. <br>\n",
    "this is done wit sklearn TimeSeriesSplit method <br>\n",
    "The TimeSerieSplit function takes as input the number of splits. Since our training data has 11 unique years (2006 -2016), we would be setting n_splits = 10. This way we have neat training and validation sets:<br>\n",
    "fold 1: training [2006], validation [2007]<br>\n",
    "fold 2: training [2006 2007], validation [2008]<br>\n",
    "fold 3: training [2006 2007 2008], validation [2009]<br>\n",
    "fold 4: training [2006 2007 2008 2009], validation [2010]<br>\n",
    "fold 5: training [2006 2007 2008 2009 2010], validation [2011]<br>\n",
    "fold 6: training [2006 2007 2008 2009 2010 2011], validation [2012]<br>\n",
    "fold 7: training [2006 2007 2008 2009 2010 2011 2012], validation [2013]<br>\n",
    "fold 8: training [2006 2007 2008 2009 2010 2011 2012 2013], validation [2014]<br>\n",
    "fold 9: training [2006 2007 2008 2009 2010 2011 2012 2013 2014], validation [2015]<br>\n",
    "fold 10: training [2006 2007 2008 2009 2010 2011 2012 2013 2014 2015], validation [2016]<br>"
   ]
  },
  {
   "cell_type": "markdown",
   "metadata": {},
   "source": [
    "# spot check algorithms"
   ]
  },
  {
   "cell_type": "code",
   "execution_count": 8,
   "metadata": {},
   "outputs": [
    {
     "name": "stdout",
     "output_type": "stream",
     "text": [
      "LR: 0.343747 (0.029773)\n"
     ]
    },
    {
     "name": "stderr",
     "output_type": "stream",
     "text": [
      "C:\\Users\\auria\\Anaconda3\\envs\\timeSeries\\lib\\site-packages\\sklearn\\neural_network\\_multilayer_perceptron.py:471: ConvergenceWarning: lbfgs failed to converge (status=1):\n",
      "STOP: TOTAL NO. of ITERATIONS REACHED LIMIT.\n",
      "\n",
      "Increase the number of iterations (max_iter) or scale the data as shown in:\n",
      "    https://scikit-learn.org/stable/modules/preprocessing.html\n",
      "  self.n_iter_ = _check_optimize_result(\"lbfgs\", opt_res, self.max_iter)\n",
      "C:\\Users\\auria\\Anaconda3\\envs\\timeSeries\\lib\\site-packages\\sklearn\\neural_network\\_multilayer_perceptron.py:471: ConvergenceWarning: lbfgs failed to converge (status=1):\n",
      "STOP: TOTAL NO. of ITERATIONS REACHED LIMIT.\n",
      "\n",
      "Increase the number of iterations (max_iter) or scale the data as shown in:\n",
      "    https://scikit-learn.org/stable/modules/preprocessing.html\n",
      "  self.n_iter_ = _check_optimize_result(\"lbfgs\", opt_res, self.max_iter)\n",
      "C:\\Users\\auria\\Anaconda3\\envs\\timeSeries\\lib\\site-packages\\sklearn\\neural_network\\_multilayer_perceptron.py:471: ConvergenceWarning: lbfgs failed to converge (status=1):\n",
      "STOP: TOTAL NO. of ITERATIONS REACHED LIMIT.\n",
      "\n",
      "Increase the number of iterations (max_iter) or scale the data as shown in:\n",
      "    https://scikit-learn.org/stable/modules/preprocessing.html\n",
      "  self.n_iter_ = _check_optimize_result(\"lbfgs\", opt_res, self.max_iter)\n",
      "C:\\Users\\auria\\Anaconda3\\envs\\timeSeries\\lib\\site-packages\\sklearn\\neural_network\\_multilayer_perceptron.py:471: ConvergenceWarning: lbfgs failed to converge (status=1):\n",
      "STOP: TOTAL NO. of ITERATIONS REACHED LIMIT.\n",
      "\n",
      "Increase the number of iterations (max_iter) or scale the data as shown in:\n",
      "    https://scikit-learn.org/stable/modules/preprocessing.html\n",
      "  self.n_iter_ = _check_optimize_result(\"lbfgs\", opt_res, self.max_iter)\n",
      "C:\\Users\\auria\\Anaconda3\\envs\\timeSeries\\lib\\site-packages\\sklearn\\neural_network\\_multilayer_perceptron.py:471: ConvergenceWarning: lbfgs failed to converge (status=1):\n",
      "STOP: TOTAL NO. of ITERATIONS REACHED LIMIT.\n",
      "\n",
      "Increase the number of iterations (max_iter) or scale the data as shown in:\n",
      "    https://scikit-learn.org/stable/modules/preprocessing.html\n",
      "  self.n_iter_ = _check_optimize_result(\"lbfgs\", opt_res, self.max_iter)\n",
      "C:\\Users\\auria\\Anaconda3\\envs\\timeSeries\\lib\\site-packages\\sklearn\\neural_network\\_multilayer_perceptron.py:471: ConvergenceWarning: lbfgs failed to converge (status=1):\n",
      "STOP: TOTAL NO. of ITERATIONS REACHED LIMIT.\n",
      "\n",
      "Increase the number of iterations (max_iter) or scale the data as shown in:\n",
      "    https://scikit-learn.org/stable/modules/preprocessing.html\n",
      "  self.n_iter_ = _check_optimize_result(\"lbfgs\", opt_res, self.max_iter)\n",
      "C:\\Users\\auria\\Anaconda3\\envs\\timeSeries\\lib\\site-packages\\sklearn\\neural_network\\_multilayer_perceptron.py:471: ConvergenceWarning: lbfgs failed to converge (status=1):\n",
      "STOP: TOTAL NO. of ITERATIONS REACHED LIMIT.\n",
      "\n",
      "Increase the number of iterations (max_iter) or scale the data as shown in:\n",
      "    https://scikit-learn.org/stable/modules/preprocessing.html\n",
      "  self.n_iter_ = _check_optimize_result(\"lbfgs\", opt_res, self.max_iter)\n",
      "C:\\Users\\auria\\Anaconda3\\envs\\timeSeries\\lib\\site-packages\\sklearn\\neural_network\\_multilayer_perceptron.py:471: ConvergenceWarning: lbfgs failed to converge (status=1):\n",
      "STOP: TOTAL NO. of ITERATIONS REACHED LIMIT.\n",
      "\n",
      "Increase the number of iterations (max_iter) or scale the data as shown in:\n",
      "    https://scikit-learn.org/stable/modules/preprocessing.html\n",
      "  self.n_iter_ = _check_optimize_result(\"lbfgs\", opt_res, self.max_iter)\n",
      "C:\\Users\\auria\\Anaconda3\\envs\\timeSeries\\lib\\site-packages\\sklearn\\neural_network\\_multilayer_perceptron.py:471: ConvergenceWarning: lbfgs failed to converge (status=1):\n",
      "STOP: TOTAL NO. of ITERATIONS REACHED LIMIT.\n",
      "\n",
      "Increase the number of iterations (max_iter) or scale the data as shown in:\n",
      "    https://scikit-learn.org/stable/modules/preprocessing.html\n",
      "  self.n_iter_ = _check_optimize_result(\"lbfgs\", opt_res, self.max_iter)\n"
     ]
    },
    {
     "name": "stdout",
     "output_type": "stream",
     "text": [
      "NN: 0.473225 (0.156088)\n",
      "KNN: 0.646307 (0.083185)\n",
      "RF: 0.610843 (0.084034)\n",
      "SVR: -0.117944 (0.157755)\n"
     ]
    },
    {
     "data": {
      "image/png": "[encoded data removed]",
      "text/plain": [
       "<Figure size 432x288 with 1 Axes>"
      ]
     },
     "metadata": {
      "needs_background": "light"
     },
     "output_type": "display_data"
    }
   ],
   "source": [
    "models = []\n",
    "models.append(('LR', LinearRegression()))\n",
    "models.append(('NN', MLPRegressor(solver = 'lbfgs')))  #neural network\n",
    "models.append(('KNN', KNeighborsRegressor())) \n",
    "models.append(('RF', RandomForestRegressor(n_estimators = 10))) # Ensemble method - collection of many decision trees\n",
    "models.append(('SVR', SVR(gamma='auto'))) # kernel = linear\n",
    "\n",
    "#evaluate each model in turn\n",
    "results = []\n",
    "names = []\n",
    "for name, model in models:\n",
    "    #time series cross validation\n",
    "    tscv  = TimeSeriesSplit(n_splits=10)\n",
    "    \n",
    "    cv_results = cross_val_score(model, X_train, y_train, cv = tscv, scoring='r2')\n",
    "    results.append(cv_results)\n",
    "    names.append(name)\n",
    "    print('%s: %f (%f)' % (name, cv_results.mean(), cv_results.std()))\n",
    "    \n",
    "#compare algorithms\n",
    "plt.boxplot(results, labels=names)\n",
    "plt.title('Algorithm Comparison')\n",
    "plt.show()\n"
   ]
  },
  {
   "cell_type": "markdown",
   "metadata": {},
   "source": [
    "# Grid Searching hyperparameters"
   ]
  },
  {
   "cell_type": "code",
   "execution_count": 9,
   "metadata": {},
   "outputs": [],
   "source": [
    "#create custom scorer\n",
    "def rmse(actual, predict):\n",
    "    predict = np.array(predict)\n",
    "    actual = np.array(actual)\n",
    "    \n",
    "    distance = predict - actual\n",
    "    square_distance = distance ** 2\n",
    "    mean_square_distance = square_distance.mean()\n",
    "    score = np.sqrt(mean_square_distance)\n",
    "    \n",
    "    return score\n",
    "\n",
    "rmse_score = metrics.make_scorer(rmse, greater_is_better = False)\n"
   ]
  },
  {
   "cell_type": "code",
   "execution_count": 10,
   "metadata": {},
   "outputs": [
    {
     "data": {
      "text/plain": [
       "GridSearchCV(cv=TimeSeriesSplit(max_train_size=None, n_splits=10),\n",
       "             estimator=RandomForestRegressor(),\n",
       "             param_grid={'max_depth': [5, 6, 7, 8, 9, 10, 11, 12, 13, 14],\n",
       "                         'max_features': ['auto', 'sqrt', 'log2'],\n",
       "                         'n_estimators': [20, 50, 100]},\n",
       "             scoring=make_scorer(rmse, greater_is_better=False))"
      ]
     },
     "execution_count": 10,
     "metadata": {},
     "output_type": "execute_result"
    }
   ],
   "source": [
    "model = RandomForestRegressor()\n",
    "\n",
    "param_search = {\n",
    "    'n_estimators': [20, 50, 100],\n",
    "    'max_features': ['auto', 'sqrt', 'log2'], \n",
    "    'max_depth' : [i for i in range(5,15)]\n",
    "}\n",
    "\n",
    "tscv = TimeSeriesSplit(n_splits=10)\n",
    "gsearch = GridSearchCV(estimator=model, cv=tscv, \n",
    "                      param_grid=param_search, scoring = rmse_score)\n",
    "\n",
    "gsearch.fit(X_train, y_train)\n"
   ]
  },
  {
   "cell_type": "code",
   "execution_count": 11,
   "metadata": {},
   "outputs": [
    {
     "data": {
      "text/plain": [
       "RandomForestRegressor(max_depth=8, max_features='log2')"
      ]
     },
     "execution_count": 11,
     "metadata": {},
     "output_type": "execute_result"
    }
   ],
   "source": [
    "best_score = gsearch.best_score_\n",
    "best_model = gsearch.best_estimator_\n",
    "best_model"
   ]
  },
  {
   "cell_type": "markdown",
   "metadata": {},
   "source": [
    "# Checking model performance"
   ]
  },
  {
   "cell_type": "code",
   "execution_count": 19,
   "metadata": {},
   "outputs": [],
   "source": [
    "y_true = y_test.values\n",
    "y_pred = best_model.predict(X_test)"
   ]
  },
  {
   "cell_type": "code",
   "execution_count": 20,
   "metadata": {},
   "outputs": [],
   "source": [
    "#Sklearn regression_results seems broken, here is is fixed\n",
    "def regression_results(y_true, y_pred):\n",
    "\n",
    "    # Regression metrics\n",
    "    explained_variance=metrics.explained_variance_score(y_true, y_pred)\n",
    "    mean_absolute_error=metrics.mean_absolute_error(y_true, y_pred) \n",
    "    mse=metrics.mean_squared_error(y_true, y_pred) \n",
    "    mean_squared_log_error=metrics.mean_squared_log_error(y_true, y_pred)\n",
    "    median_absolute_error=metrics.median_absolute_error(y_true, y_pred)\n",
    "    r2=metrics.r2_score(y_true, y_pred)\n",
    "\n",
    "    print('explained_variance: ', round(explained_variance,4))    \n",
    "    print('mean_squared_log_error: ', round(mean_squared_log_error,4))\n",
    "    print('r2: ', round(r2,4))\n",
    "    print('MAE: ', round(mean_absolute_error,4))\n",
    "    print('MSE: ', round(mse,4))\n",
    "    print('RMSE: ', round(np.sqrt(mse),4))"
   ]
  },
  {
   "cell_type": "code",
   "execution_count": 18,
   "metadata": {},
   "outputs": [
    {
     "name": "stdout",
     "output_type": "stream",
     "text": [
      "explained_variance:  0.732\n",
      "mean_squared_log_error:  0.0041\n",
      "r2:  0.7299\n",
      "MAE:  55.2807\n",
      "MSE:  7313.2017\n",
      "RMSE:  85.5173\n"
     ]
    }
   ],
   "source": [
    "regression_results(y_true, y_pred)"
   ]
  },
  {
   "cell_type": "markdown",
   "metadata": {},
   "source": [
    "# Feature engineering\n",
    "Previous model was using values at t-1 to predict on date t, let us now use values from t-2"
   ]
  },
  {
   "cell_type": "code",
   "execution_count": 23,
   "metadata": {},
   "outputs": [],
   "source": [
    "#copy of original dataframe\n",
    "data_consumption_2o = data_consumption.copy()\n",
    "\n",
    "#Insert column with yesterday-1 values\n",
    "data_consumption_2o['Yesterday-1'] = data_consumption_2o['Yesterday'].shift()\n",
    "\n",
    "#inserting column with difference in yesterday-1 and yesterday-2 values\n",
    "\n",
    "data_consumption_2o['Yesterday-1 Diff'] = data_consumption_2o['Yesterday-1'].diff()\n",
    "\n",
    "#Dropping NAs\n",
    "data_consumption_2o = data_consumption_2o.dropna()"
   ]
  },
  {
   "cell_type": "code",
   "execution_count": 24,
   "metadata": {},
   "outputs": [
    {
     "data": {
      "text/html": [
       "<div>\n",
       "<style scoped>\n",
       "    .dataframe tbody tr th:only-of-type {\n",
       "        vertical-align: middle;\n",
       "    }\n",
       "\n",
       "    .dataframe tbody tr th {\n",
       "        vertical-align: top;\n",
       "    }\n",
       "\n",
       "    .dataframe thead th {\n",
       "        text-align: right;\n",
       "    }\n",
       "</style>\n",
       "<table border=\"1\" class=\"dataframe\">\n",
       "  <thead>\n",
       "    <tr style=\"text-align: right;\">\n",
       "      <th></th>\n",
       "      <th>Consumption</th>\n",
       "      <th>Yesterday</th>\n",
       "      <th>Yesterday_Diff</th>\n",
       "      <th>Yesterday-1</th>\n",
       "      <th>Yesterday-1 Diff</th>\n",
       "    </tr>\n",
       "    <tr>\n",
       "      <th>Date</th>\n",
       "      <th></th>\n",
       "      <th></th>\n",
       "      <th></th>\n",
       "      <th></th>\n",
       "      <th></th>\n",
       "    </tr>\n",
       "  </thead>\n",
       "  <tbody>\n",
       "    <tr>\n",
       "      <th>2006-01-05</th>\n",
       "      <td>1477.131</td>\n",
       "      <td>1457.217</td>\n",
       "      <td>14.684</td>\n",
       "      <td>1442.533</td>\n",
       "      <td>62.012</td>\n",
       "    </tr>\n",
       "    <tr>\n",
       "      <th>2006-01-06</th>\n",
       "      <td>1403.427</td>\n",
       "      <td>1477.131</td>\n",
       "      <td>19.914</td>\n",
       "      <td>1457.217</td>\n",
       "      <td>14.684</td>\n",
       "    </tr>\n",
       "    <tr>\n",
       "      <th>2006-01-07</th>\n",
       "      <td>1300.287</td>\n",
       "      <td>1403.427</td>\n",
       "      <td>-73.704</td>\n",
       "      <td>1477.131</td>\n",
       "      <td>19.914</td>\n",
       "    </tr>\n",
       "    <tr>\n",
       "      <th>2006-01-08</th>\n",
       "      <td>1207.985</td>\n",
       "      <td>1300.287</td>\n",
       "      <td>-103.140</td>\n",
       "      <td>1403.427</td>\n",
       "      <td>-73.704</td>\n",
       "    </tr>\n",
       "    <tr>\n",
       "      <th>2006-01-09</th>\n",
       "      <td>1529.323</td>\n",
       "      <td>1207.985</td>\n",
       "      <td>-92.302</td>\n",
       "      <td>1300.287</td>\n",
       "      <td>-103.140</td>\n",
       "    </tr>\n",
       "  </tbody>\n",
       "</table>\n",
       "</div>"
      ],
      "text/plain": [
       "            Consumption  Yesterday  Yesterday_Diff  Yesterday-1  \\\n",
       "Date                                                              \n",
       "2006-01-05     1477.131   1457.217          14.684     1442.533   \n",
       "2006-01-06     1403.427   1477.131          19.914     1457.217   \n",
       "2006-01-07     1300.287   1403.427         -73.704     1477.131   \n",
       "2006-01-08     1207.985   1300.287        -103.140     1403.427   \n",
       "2006-01-09     1529.323   1207.985         -92.302     1300.287   \n",
       "\n",
       "            Yesterday-1 Diff  \n",
       "Date                          \n",
       "2006-01-05            62.012  \n",
       "2006-01-06            14.684  \n",
       "2006-01-07            19.914  \n",
       "2006-01-08           -73.704  \n",
       "2006-01-09          -103.140  "
      ]
     },
     "execution_count": 24,
     "metadata": {},
     "output_type": "execute_result"
    }
   ],
   "source": [
    "data_consumption_2o.head()"
   ]
  },
  {
   "cell_type": "markdown",
   "metadata": {},
   "source": [
    "# Resetting the train and test sets"
   ]
  },
  {
   "cell_type": "code",
   "execution_count": 25,
   "metadata": {},
   "outputs": [],
   "source": [
    "X_train_2o = data_consumption_2o[:'2016'].drop(['Consumption'], axis = 1)\n",
    "y_train_2o = data_consumption_2o.loc[:'2016', 'Consumption']\n",
    "\n",
    "X_test = data_consumption_2o['2017'].drop(['Consumption'], axis = 1)\n",
    "y_test = data_consumption_2o.loc['2017', 'Consumption']"
   ]
  },
  {
   "cell_type": "markdown",
   "metadata": {},
   "source": [
    "# Check if the best random forest model performs better using new predictors"
   ]
  },
  {
   "cell_type": "code",
   "execution_count": 26,
   "metadata": {},
   "outputs": [
    {
     "data": {
      "text/plain": [
       "GridSearchCV(cv=TimeSeriesSplit(max_train_size=None, n_splits=10),\n",
       "             estimator=RandomForestRegressor(),\n",
       "             param_grid={'max_depth': [5, 6, 7, 8, 9, 10, 11, 12, 13, 14],\n",
       "                         'max_features': ['auto', 'sqrt', 'log2'],\n",
       "                         'n_estimators': [20, 50, 100]},\n",
       "             scoring=make_scorer(rmse, greater_is_better=False))"
      ]
     },
     "execution_count": 26,
     "metadata": {},
     "output_type": "execute_result"
    }
   ],
   "source": [
    "model = RandomForestRegressor()\n",
    "\n",
    "param_search = {\n",
    "    'n_estimators': [20, 50, 100],\n",
    "    'max_features': ['auto', 'sqrt', 'log2'], \n",
    "    'max_depth' : [i for i in range(5,15)]\n",
    "}\n",
    "\n",
    "tscv = TimeSeriesSplit(n_splits=10)\n",
    "gsearch = GridSearchCV(estimator=model, cv=tscv, \n",
    "                      param_grid=param_search, scoring = rmse_score)\n",
    "\n",
    "gsearch.fit(X_train_2o, y_train_2o)\n"
   ]
  },
  {
   "cell_type": "code",
   "execution_count": 27,
   "metadata": {},
   "outputs": [
    {
     "data": {
      "text/plain": [
       "RandomForestRegressor(max_depth=11, max_features='sqrt', n_estimators=50)"
      ]
     },
     "execution_count": 27,
     "metadata": {},
     "output_type": "execute_result"
    }
   ],
   "source": [
    "best_score = gsearch.best_score_\n",
    "best_model = gsearch.best_estimator_\n",
    "best_model"
   ]
  },
  {
   "cell_type": "code",
   "execution_count": 28,
   "metadata": {},
   "outputs": [
    {
     "name": "stdout",
     "output_type": "stream",
     "text": [
      "explained_variance:  0.8372\n",
      "mean_squared_log_error:  0.0025\n",
      "r2:  0.8371\n",
      "MAE:  40.5632\n",
      "MSE:  4410.5303\n",
      "RMSE:  66.4118\n"
     ]
    }
   ],
   "source": [
    "y_true = y_test.values\n",
    "y_pred = best_model.predict(X_test)\n",
    "regression_results(y_true, y_pred)"
   ]
  },
  {
   "cell_type": "markdown",
   "metadata": {},
   "source": [
    "We can see that adding the price from 2 days ago improves regression metrics"
   ]
  },
  {
   "cell_type": "markdown",
   "metadata": {},
   "source": [
    "# More feature engineering\n",
    "let's see if assing the value of solar production is beneficial to predicting electricity consumption"
   ]
  },
  {
   "cell_type": "code",
   "execution_count": 30,
   "metadata": {},
   "outputs": [
    {
     "data": {
      "text/html": [
       "<div>\n",
       "<style scoped>\n",
       "    .dataframe tbody tr th:only-of-type {\n",
       "        vertical-align: middle;\n",
       "    }\n",
       "\n",
       "    .dataframe tbody tr th {\n",
       "        vertical-align: top;\n",
       "    }\n",
       "\n",
       "    .dataframe thead th {\n",
       "        text-align: right;\n",
       "    }\n",
       "</style>\n",
       "<table border=\"1\" class=\"dataframe\">\n",
       "  <thead>\n",
       "    <tr style=\"text-align: right;\">\n",
       "      <th></th>\n",
       "      <th>Consumption</th>\n",
       "      <th>Yesterday</th>\n",
       "      <th>Yesterday_Diff</th>\n",
       "      <th>Yesterday-1</th>\n",
       "      <th>Yesterday-1 Diff</th>\n",
       "      <th>Solar</th>\n",
       "    </tr>\n",
       "    <tr>\n",
       "      <th>Date</th>\n",
       "      <th></th>\n",
       "      <th></th>\n",
       "      <th></th>\n",
       "      <th></th>\n",
       "      <th></th>\n",
       "      <th></th>\n",
       "    </tr>\n",
       "  </thead>\n",
       "  <tbody>\n",
       "    <tr>\n",
       "      <th>2012-01-01</th>\n",
       "      <td>948.128</td>\n",
       "      <td>1077.625</td>\n",
       "      <td>-122.241</td>\n",
       "      <td>1199.866</td>\n",
       "      <td>-27.022</td>\n",
       "      <td>6.587</td>\n",
       "    </tr>\n",
       "    <tr>\n",
       "      <th>2012-01-02</th>\n",
       "      <td>1269.581</td>\n",
       "      <td>948.128</td>\n",
       "      <td>-129.497</td>\n",
       "      <td>1077.625</td>\n",
       "      <td>-122.241</td>\n",
       "      <td>6.574</td>\n",
       "    </tr>\n",
       "    <tr>\n",
       "      <th>2012-01-03</th>\n",
       "      <td>1334.745</td>\n",
       "      <td>1269.581</td>\n",
       "      <td>321.453</td>\n",
       "      <td>948.128</td>\n",
       "      <td>-129.497</td>\n",
       "      <td>24.679</td>\n",
       "    </tr>\n",
       "    <tr>\n",
       "      <th>2012-01-04</th>\n",
       "      <td>1347.136</td>\n",
       "      <td>1334.745</td>\n",
       "      <td>65.164</td>\n",
       "      <td>1269.581</td>\n",
       "      <td>321.453</td>\n",
       "      <td>14.681</td>\n",
       "    </tr>\n",
       "    <tr>\n",
       "      <th>2012-01-05</th>\n",
       "      <td>1376.658</td>\n",
       "      <td>1347.136</td>\n",
       "      <td>12.391</td>\n",
       "      <td>1334.745</td>\n",
       "      <td>65.164</td>\n",
       "      <td>5.071</td>\n",
       "    </tr>\n",
       "  </tbody>\n",
       "</table>\n",
       "</div>"
      ],
      "text/plain": [
       "            Consumption  Yesterday  Yesterday_Diff  Yesterday-1  \\\n",
       "Date                                                              \n",
       "2012-01-01      948.128   1077.625        -122.241     1199.866   \n",
       "2012-01-02     1269.581    948.128        -129.497     1077.625   \n",
       "2012-01-03     1334.745   1269.581         321.453      948.128   \n",
       "2012-01-04     1347.136   1334.745          65.164     1269.581   \n",
       "2012-01-05     1376.658   1347.136          12.391     1334.745   \n",
       "\n",
       "            Yesterday-1 Diff   Solar  \n",
       "Date                                  \n",
       "2012-01-01           -27.022   6.587  \n",
       "2012-01-02          -122.241   6.574  \n",
       "2012-01-03          -129.497  24.679  \n",
       "2012-01-04           321.453  14.681  \n",
       "2012-01-05            65.164   5.071  "
      ]
     },
     "execution_count": 30,
     "metadata": {},
     "output_type": "execute_result"
    }
   ],
   "source": [
    "data_consumption_2o_solar = data_consumption_2o.join(data[['Solar']])\n",
    "data_consumption_2o_solar = data_consumption_2o_solar.dropna()\n",
    "data_consumption_2o_solar.head()"
   ]
  },
  {
   "cell_type": "code",
   "execution_count": 40,
   "metadata": {},
   "outputs": [],
   "source": [
    "X_train_2o_solar = data_consumption_2o_solar[:'2016'].drop(['Consumption'], axis = 1)\n",
    "y_train_2o_solar = data_consumption_2o_solar.loc[:'2016', 'Consumption']\n",
    "\n",
    "X_test_2o_solar = data_consumption_2o_solar.loc['2017', :].drop('Consumption', axis = 1)\n",
    "y_test_2o_solar = data_consumption_2o_solar.loc['2017', 'Consumption']"
   ]
  },
  {
   "cell_type": "code",
   "execution_count": 43,
   "metadata": {},
   "outputs": [
    {
     "data": {
      "text/plain": [
       "GridSearchCV(cv=TimeSeriesSplit(max_train_size=None, n_splits=10),\n",
       "             estimator=RandomForestRegressor(),\n",
       "             param_grid={'max_depth': [5, 6, 7, 8, 9, 10, 11, 12, 13, 14],\n",
       "                         'max_features': ['auto', 'sqrt', 'log2'],\n",
       "                         'n_estimators': [20, 50, 100]},\n",
       "             scoring=make_scorer(rmse, greater_is_better=False))"
      ]
     },
     "execution_count": 43,
     "metadata": {},
     "output_type": "execute_result"
    }
   ],
   "source": [
    "model = RandomForestRegressor()\n",
    "\n",
    "param_search = {\n",
    "    'n_estimators': [20, 50, 100],\n",
    "    'max_features': ['auto', 'sqrt', 'log2'], \n",
    "    'max_depth' : [i for i in range(5,15)]\n",
    "}\n",
    "\n",
    "tscv = TimeSeriesSplit(n_splits=10)\n",
    "gsearch = GridSearchCV(estimator=model, cv=tscv, \n",
    "                      param_grid=param_search, scoring = rmse_score)\n",
    "\n",
    "gsearch.fit(X_train_2o_solar, y_train_2o_solar)\n"
   ]
  },
  {
   "cell_type": "code",
   "execution_count": 44,
   "metadata": {},
   "outputs": [
    {
     "data": {
      "text/plain": [
       "RandomForestRegressor(max_depth=12, max_features='sqrt')"
      ]
     },
     "execution_count": 44,
     "metadata": {},
     "output_type": "execute_result"
    }
   ],
   "source": [
    "best_score = gsearch.best_score_\n",
    "best_model = gsearch.best_estimator_\n",
    "best_model"
   ]
  },
  {
   "cell_type": "code",
   "execution_count": 45,
   "metadata": {},
   "outputs": [
    {
     "name": "stdout",
     "output_type": "stream",
     "text": [
      "explained_variance:  0.8396\n",
      "mean_squared_log_error:  0.0025\n",
      "r2:  0.8394\n",
      "MAE:  40.2213\n",
      "MSE:  4349.7115\n",
      "RMSE:  65.9523\n"
     ]
    }
   ],
   "source": [
    "y_true = y_test_2o_solar.values\n",
    "y_pred = best_model.predict(X_test_2o_solar)\n",
    "regression_results(y_true, y_pred)"
   ]
  },
  {
   "cell_type": "markdown",
   "metadata": {},
   "source": [
    "# Variable importance plot"
   ]
  },
  {
   "cell_type": "code",
   "execution_count": 47,
   "metadata": {},
   "outputs": [
    {
     "data": {
      "image/png": "[encoded data removed]",
      "text/plain": [
       "<Figure size 432x288 with 1 Axes>"
      ]
     },
     "metadata": {
      "needs_background": "light"
     },
     "output_type": "display_data"
    }
   ],
   "source": [
    "imp = best_model.feature_importances_\n",
    "features = X_train_2o_solar.columns\n",
    "indices = np.argsort(imp)\n",
    "plt.title('Feature Importances')\n",
    "plt.barh(range(len(indices)), imp[indices], color='b', align='center')\n",
    "plt.yticks(range(len(indices)), [features[i] for i in indices])\n",
    "plt.xlabel('Relative Importance')\n",
    "plt.show()"
   ]
  },
  {
   "cell_type": "markdown",
   "metadata": {},
   "source": [
    "# Accounting for seasonality\n",
    "In previous notebook we aw that there was a weekly seasonality element to the time series, let's add consumption in week prior to check if it improves model"
   ]
  },
  {
   "cell_type": "code",
   "execution_count": 51,
   "metadata": {},
   "outputs": [
    {
     "data": {
      "text/html": [
       "<div>\n",
       "<style scoped>\n",
       "    .dataframe tbody tr th:only-of-type {\n",
       "        vertical-align: middle;\n",
       "    }\n",
       "\n",
       "    .dataframe tbody tr th {\n",
       "        vertical-align: top;\n",
       "    }\n",
       "\n",
       "    .dataframe thead th {\n",
       "        text-align: right;\n",
       "    }\n",
       "</style>\n",
       "<table border=\"1\" class=\"dataframe\">\n",
       "  <thead>\n",
       "    <tr style=\"text-align: right;\">\n",
       "      <th></th>\n",
       "      <th>Consumption</th>\n",
       "      <th>Yesterday</th>\n",
       "      <th>Yesterday_Diff</th>\n",
       "      <th>Yesterday-1</th>\n",
       "      <th>Yesterday-1 Diff</th>\n",
       "      <th>Solar</th>\n",
       "      <th>Last_week</th>\n",
       "    </tr>\n",
       "    <tr>\n",
       "      <th>Date</th>\n",
       "      <th></th>\n",
       "      <th></th>\n",
       "      <th></th>\n",
       "      <th></th>\n",
       "      <th></th>\n",
       "      <th></th>\n",
       "      <th></th>\n",
       "    </tr>\n",
       "  </thead>\n",
       "  <tbody>\n",
       "    <tr>\n",
       "      <th>2012-01-08</th>\n",
       "      <td>1103.383</td>\n",
       "      <td>1175.688</td>\n",
       "      <td>-115.527</td>\n",
       "      <td>1291.215</td>\n",
       "      <td>-85.443</td>\n",
       "      <td>8.440</td>\n",
       "      <td>948.128</td>\n",
       "    </tr>\n",
       "    <tr>\n",
       "      <th>2012-01-09</th>\n",
       "      <td>1443.371</td>\n",
       "      <td>1103.383</td>\n",
       "      <td>-72.305</td>\n",
       "      <td>1175.688</td>\n",
       "      <td>-115.527</td>\n",
       "      <td>5.264</td>\n",
       "      <td>1269.581</td>\n",
       "    </tr>\n",
       "    <tr>\n",
       "      <th>2012-01-10</th>\n",
       "      <td>1434.631</td>\n",
       "      <td>1443.371</td>\n",
       "      <td>339.988</td>\n",
       "      <td>1103.383</td>\n",
       "      <td>-72.305</td>\n",
       "      <td>17.827</td>\n",
       "      <td>1334.745</td>\n",
       "    </tr>\n",
       "    <tr>\n",
       "      <th>2012-01-11</th>\n",
       "      <td>1449.768</td>\n",
       "      <td>1434.631</td>\n",
       "      <td>-8.740</td>\n",
       "      <td>1443.371</td>\n",
       "      <td>339.988</td>\n",
       "      <td>10.849</td>\n",
       "      <td>1347.136</td>\n",
       "    </tr>\n",
       "    <tr>\n",
       "      <th>2012-01-12</th>\n",
       "      <td>1442.448</td>\n",
       "      <td>1449.768</td>\n",
       "      <td>15.137</td>\n",
       "      <td>1434.631</td>\n",
       "      <td>-8.740</td>\n",
       "      <td>18.023</td>\n",
       "      <td>1376.658</td>\n",
       "    </tr>\n",
       "  </tbody>\n",
       "</table>\n",
       "</div>"
      ],
      "text/plain": [
       "            Consumption  Yesterday  Yesterday_Diff  Yesterday-1  \\\n",
       "Date                                                              \n",
       "2012-01-08     1103.383   1175.688        -115.527     1291.215   \n",
       "2012-01-09     1443.371   1103.383         -72.305     1175.688   \n",
       "2012-01-10     1434.631   1443.371         339.988     1103.383   \n",
       "2012-01-11     1449.768   1434.631          -8.740     1443.371   \n",
       "2012-01-12     1442.448   1449.768          15.137     1434.631   \n",
       "\n",
       "            Yesterday-1 Diff   Solar  Last_week  \n",
       "Date                                             \n",
       "2012-01-08           -85.443   8.440    948.128  \n",
       "2012-01-09          -115.527   5.264   1269.581  \n",
       "2012-01-10           -72.305  17.827   1334.745  \n",
       "2012-01-11           339.988  10.849   1347.136  \n",
       "2012-01-12            -8.740  18.023   1376.658  "
      ]
     },
     "execution_count": 51,
     "metadata": {},
     "output_type": "execute_result"
    }
   ],
   "source": [
    "#add features\n",
    "data_consumption_2o_solar_weeklyShift = data_consumption_2o_solar.copy()\n",
    "data_consumption_2o_solar_weeklyShift['Last_week'] = data_consumption_2o_solar_weeklyShift['Consumption'].shift(7)\n",
    "data_consumption_2o_solar_weeklyShift = data_consumption_2o_solar_weeklyShift.dropna()\n",
    "data_consumption_2o_solar_weeklyShift.head()"
   ]
  },
  {
   "cell_type": "code",
   "execution_count": 57,
   "metadata": {},
   "outputs": [],
   "source": [
    "#create sets\n",
    "X_train_weeklyShift = data_consumption_2o_solar_weeklyShift.loc[:'2016', :].drop(['Consumption'], axis = 1)\n",
    "y_train_weeklyShift = data_consumption_2o_solar_weeklyShift.loc[:'2016', 'Consumption']\n",
    "\n",
    "X_test_weeklyShift = data_consumption_2o_solar_weeklyShift.loc['2017', :].drop(['Consumption'], axis = 1)\n",
    "y_test_weeklyShift = data_consumption_2o_solar_weeklyShift.loc['2017', 'Consumption']\n",
    "\n",
    "\n"
   ]
  },
  {
   "cell_type": "code",
   "execution_count": 58,
   "metadata": {},
   "outputs": [
    {
     "data": {
      "text/plain": [
       "GridSearchCV(cv=TimeSeriesSplit(max_train_size=None, n_splits=10),\n",
       "             estimator=RandomForestRegressor(),\n",
       "             param_grid={'max_depth': [5, 6, 7, 8, 9, 10, 11, 12, 13, 14],\n",
       "                         'max_features': ['auto', 'sqrt', 'log2'],\n",
       "                         'n_estimators': [20, 50, 100]},\n",
       "             scoring=make_scorer(rmse, greater_is_better=False))"
      ]
     },
     "execution_count": 58,
     "metadata": {},
     "output_type": "execute_result"
    }
   ],
   "source": [
    "#grid search\n",
    "model = RandomForestRegressor()\n",
    "\n",
    "param_search = {\n",
    "    'n_estimators': [20, 50, 100],\n",
    "    'max_features': ['auto', 'sqrt', 'log2'], \n",
    "    'max_depth' : [i for i in range(5,15)]\n",
    "}\n",
    "\n",
    "tscv = TimeSeriesSplit(n_splits=10)\n",
    "gsearch = GridSearchCV(estimator=model, cv=tscv, \n",
    "                      param_grid=param_search, scoring = rmse_score)\n",
    "\n",
    "gsearch.fit(X_train_weeklyShift, y_train_weeklyShift)"
   ]
  },
  {
   "cell_type": "code",
   "execution_count": 59,
   "metadata": {},
   "outputs": [
    {
     "data": {
      "text/plain": [
       "RandomForestRegressor(max_depth=11, max_features='sqrt')"
      ]
     },
     "execution_count": 59,
     "metadata": {},
     "output_type": "execute_result"
    }
   ],
   "source": [
    "best_score = gsearch.best_score_\n",
    "best_model = gsearch.best_estimator_\n",
    "best_model"
   ]
  },
  {
   "cell_type": "code",
   "execution_count": 60,
   "metadata": {},
   "outputs": [
    {
     "name": "stdout",
     "output_type": "stream",
     "text": [
      "explained_variance:  0.8892\n",
      "mean_squared_log_error:  0.0017\n",
      "r2:  0.8888\n",
      "MAE:  31.7942\n",
      "MSE:  3012.3972\n",
      "RMSE:  54.8853\n"
     ]
    }
   ],
   "source": [
    "y_true = y_test_weeklyShift.values\n",
    "y_pred = best_model.predict(X_test_weeklyShift)\n",
    "regression_results(y_true, y_pred)"
   ]
  },
  {
   "cell_type": "code",
   "execution_count": 61,
   "metadata": {},
   "outputs": [
    {
     "data": {
      "image/png": "[encoded data removed]",
      "text/plain": [
       "<Figure size 432x288 with 1 Axes>"
      ]
     },
     "metadata": {
      "needs_background": "light"
     },
     "output_type": "display_data"
    }
   ],
   "source": [
    "imp = best_model.feature_importances_\n",
    "features = X_train_weeklyShift.columns\n",
    "indices = np.argsort(imp)\n",
    "plt.title('Feature Importances')\n",
    "plt.barh(range(len(indices)), imp[indices], color='b', align='center')\n",
    "plt.yticks(range(len(indices)), [features[i] for i in indices])\n",
    "plt.xlabel('Relative Importance')\n",
    "plt.show()"
   ]
  },
  {
   "cell_type": "code",
   "execution_count": null,
   "metadata": {},
   "outputs": [],
   "source": []
  }
 ],
 "metadata": {
  "kernelspec": {
   "display_name": "Python 3",
   "language": "python",
   "name": "python3"
  },
  "language_info": {
   "codemirror_mode": {
    "name": "ipython",
    "version": 3
   },
   "file_extension": ".py",
   "mimetype": "text/x-python",
   "name": "python",
   "nbconvert_exporter": "python",
   "pygments_lexer": "ipython3",
   "version": "3.8.5"
  }
 },
 "nbformat": 4,
 "nbformat_minor": 4
}
